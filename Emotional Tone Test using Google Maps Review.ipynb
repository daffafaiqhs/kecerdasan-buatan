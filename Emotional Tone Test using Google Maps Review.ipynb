{
 "cells": [
  {
   "cell_type": "markdown",
   "id": "b5c234c5-b070-4a9c-84d3-e7220bdc0f8e",
   "metadata": {},
   "source": [
    "The Emotional Tone Test using Google Maps Reviews is an innovative application of sentiment analysis technology aimed at gauging the emotional nuances embedded within user-generated reviews on the platform. By leveraging advanced natural language processing (NLP) algorithms, this test aims to uncover the underlying emotional tones—such as postive, negati, or neutral by reviewers when sharing their experiences at BROOKLYN MUESEUM, NY. Bellow is attached the test review for this case."
   ]
  },
  {
   "cell_type": "markdown",
   "id": "6e1cc238-7d66-4745-a34f-a1e2e6874d06",
   "metadata": {},
   "source": [
    "<img src=\"img/review-1.png\" width=300 height=300 />\n",
    "<img src=\"img/review-2.png\" width=300 height=300 />\n",
    "<img src=\"img/review-3.png\" width=300 height=300 />\n",
    "<img src=\"img/review-4.png\" width=300 height=300 />\n",
    "<img src=\"img/review-5.png\" width=300 height=300 />\n",
    "<img src=\"img/review-6.png\" width=300 height=300 />\n",
    "<img src=\"img/review-7.png\" width=300 height=300 />\n",
    "<img src=\"img/review-8.png\" width=300 height=300 />\n",
    "<img src=\"img/review-9.png\" width=300 height=300 />\n",
    "<img src=\"img/review-10.png\" width=300 height=300 />\n",
    "<img src=\"img/review-11.png\" width=300 height=300 />\n",
    "<img src=\"img/review-12.png\" width=300 height=300 />\n",
    "<img src=\"img/review-13.png\" width=300 height=300 />\n",
    "<img src=\"img/review-14.png\" width=300 height=300 />\n",
    "<img src=\"img/review-15.png\" width=300 height=300 />\n",
    "<img src=\"img/review-16.png\" width=300 height=300 />\n",
    "<img src=\"img/review-17.png\" width=300 height=300 />\n",
    "<img src=\"img/review-18.png\" width=300 height=300 />\n",
    "<img src=\"img/review-19.png\" width=300 height=300 />\n",
    "<img src=\"img/review-20.png\" width=300 height=300 />"
   ]
  },
  {
   "cell_type": "code",
   "execution_count": null,
   "id": "26894d5b-e4cd-4fd3-8a66-b0ad63497c45",
   "metadata": {},
   "outputs": [],
   "source": [
    "import nltk\n",
    "import pandas as pd\n",
    "from nltk.sentiment import SentimentIntensityAnalyzer\n",
    "from sklearn.metrics import classification_report, accuracy_score"
   ]
  },
  {
   "cell_type": "markdown",
   "id": "3a7a6eaa-eac5-4c06-ac40-4463603e5713",
   "metadata": {},
   "source": [
    "nltk: Natural Language Toolkit, used for natural language processing tasks.\n",
    "pandas: Data manipulation and analysis library.\n",
    "SentimentIntensityAnalyzer: A tool from NLTK for sentiment analysis.\n",
    "classification_report, accuracy_score: Utilities from scikit-learn for evaluating classification models."
   ]
  },
  {
   "cell_type": "code",
   "execution_count": null,
   "id": "3f2974de-002c-48f2-ab82-f45379714474",
   "metadata": {},
   "outputs": [],
   "source": [
    "sia = SentimentIntensityAnalyzer()"
   ]
  },
  {
   "cell_type": "markdown",
   "id": "7e143d2e-2e2f-4b2f-8f74-380ab594f14f",
   "metadata": {},
   "source": [
    "Creates an instance of SentimentIntensityAnalyzer which will be used to analyze the emotional tone of text."
   ]
  },
  {
   "cell_type": "code",
   "execution_count": null,
   "id": "b504745b-557a-48c1-8ea5-63a5687878eb",
   "metadata": {},
   "outputs": [],
   "source": [
    "def detect_emotional_tone(text):\n",
    "    sentiment = sia.polarity_scores(text)\n",
    "    if sentiment['compound'] >= 0.05:\n",
    "        return 'Positive'\n",
    "    elif sentiment['compound'] <= -0.05:\n",
    "        return 'Negative'\n",
    "    else:\n",
    "        return 'Neutral'"
   ]
  },
  {
   "cell_type": "markdown",
   "id": "078ef0b1-255c-42f6-9db2-2bdf04223bb3",
   "metadata": {},
   "source": [
    "detect_emotional_tone: Takes a text input and returns the emotional tone based on the compound score from SentimentIntensityAnalyzer.\n",
    "If compound score is >= 0.05, it's classified as 'Positive'.\n",
    "If compound score is <= -0.05, it's classified as 'Negative'.\n",
    "Otherwise, it's classified as 'Neutral'."
   ]
  },
  {
   "cell_type": "code",
   "execution_count": null,
   "id": "2a904cea-f0a2-463b-a6a5-2752a7897fd1",
   "metadata": {},
   "outputs": [],
   "source": [
    "txt_filename = 'dataset.txt'\n",
    "try:\n",
    "    df = pd.read_csv(txt_filename, sep=\" \", skiprows=1, names=['text', 'actual_tone'])\n",
    "    print(\"TXT file read successfully.\")\n",
    "except FileNotFoundError:\n",
    "    print(f\"Error: The file '{txt_filename}' was not found.\")\n",
    "    exit()"
   ]
  },
  {
   "cell_type": "markdown",
   "id": "56873592-163d-4992-a012-7fd6eda1b284",
   "metadata": {},
   "source": [
    "Reads text data from a TXT file (dataset.txt) into a pandas DataFrame (df).\n",
    "Assumes the file is space-separated with no header, and columns are named 'text' and 'actual_tone'.\n",
    "Prints a success message if the file is read; otherwise, exits with an error message if the file is not found."
   ]
  },
  {
   "cell_type": "code",
   "execution_count": null,
   "id": "febae9fe-6a93-4015-a964-e2648179e30b",
   "metadata": {},
   "outputs": [],
   "source": [
    "for index, row in df.iterrows():\n",
    "    text = row['text']\n",
    "    predicted_tone = detect_emotional_tone(text)\n",
    "    predicted_tones.append(predicted_tone)\n",
    "    print(f\"{index+1}. Text: {text}\")\n",
    "    print(f\"Actual Emotional Tone: {row['actual_tone']}\")\n",
    "    print(f\"Predicted Emotional Tone: {predicted_tone}\")\n",
    "    print(\"-------------------------------------------\")"
   ]
  },
  {
   "cell_type": "markdown",
   "id": "9779a550-07ae-4b90-a860-75aed620b17c",
   "metadata": {},
   "source": [
    "Iterates through each row of the DataFrame (df).\n",
    "Calls detect_emotional_tone function to predict emotional tone (predicted_tone) for each text.\n",
    "Appends predicted tones to predicted_tones list.\n",
    "Prints out the text, actual tone, and predicted tone for each text."
   ]
  },
  {
   "cell_type": "code",
   "execution_count": null,
   "id": "23ce43ad-dfef-416a-8517-b72b95634061",
   "metadata": {},
   "outputs": [],
   "source": [
    "print(\"\\nAccuracy Test:\")\n",
    "print(classification_report(actual_tones, predicted_tones, zero_division=0))\n",
    "\n",
    "accuracy = accuracy_score(actual_tones, predicted_tones) * 100\n",
    "print(f\"Accuracy: {accuracy:.2f}%\")"
   ]
  },
  {
   "cell_type": "markdown",
   "id": "47bdcd5e-4b13-4342-ba59-47c3dc3f8ce8",
   "metadata": {},
   "source": [
    "Prints an accuracy report using classification_report from scikit-learn.\n",
    "Calculates and prints overall accuracy using accuracy_score."
   ]
  },
  {
   "cell_type": "markdown",
   "id": "50887be0-3e9a-471d-aa63-7cad3a1504f8",
   "metadata": {},
   "source": [
    "Bellow is attached the completed code for said emotional tone test program"
   ]
  },
  {
   "cell_type": "code",
   "execution_count": 35,
   "id": "c3ad325f-2ef1-4c76-91b4-7ca27197b8c5",
   "metadata": {},
   "outputs": [
    {
     "name": "stdout",
     "output_type": "stream",
     "text": [
      "TXT file read successfully.\n",
      "Total Texts Processed: 20\n",
      "\n",
      "1. Text: Wouldn’t recommend coming here. Usually they give a SUGGESTED amount but when I went with my class (mind you I’m in college) they made us pay $16 to go into the frida khalo exhibit with a student discount even though it is A SUGGESTED amount... meaning we did not all have to pay $16 each to go into that lame exhibit. We could have paid $1 and still gotten in. This was by far the worst experience ever because they kept telling us we HAD to pay that amount and never told us it was just a donation which is NOT MANDATORY to give. All in all, the frida khalo exhibit was pretty good but not worth the regular SUGGESTED price nor the student discount SUGGESTED price. We couldn’t take photos in the exhibit and for that why even pay if we can’t take photos in the exhibit? It totally isn’t worth the money or time even going. I love fridas stuff but they just gave horrible customer service and was very stressful to many students which ARE PAYING FOR COLLEGE! it was unfortunate as well how staff kept screaming at us to not take photos at the exhibit meanwhile we paid to go in there for a reason. Long story short, I took photos. And they’re the ones below. Enjoy!:)\n",
      "Actual Emotional Tone: Negative\n",
      "Predicted Emotional Tone: Negative\n",
      "-------------------------------------------\n",
      "2. Text: Paid for tickets at 4:56 pm Sunday. Get to exposition at 5pm. At 5:40 was asked to exit by security because museum closed.\n",
      "Actual Emotional Tone: Negative\n",
      "Predicted Emotional Tone: Positive\n",
      "-------------------------------------------\n",
      "3. Text: Be aware this is a tourist trap. They charged us 60 bucks for 2 hamburger.\n",
      "Actual Emotional Tone: Negative\n",
      "Predicted Emotional Tone: Negative\n",
      "-------------------------------------------\n",
      "4. Text: One of the best places in the U.S. to check out art. Currently on exhibit GIANTS: Swiss beats and Alicia keys collection.\n",
      "Actual Emotional Tone: Positive\n",
      "Predicted Emotional Tone: Positive\n",
      "-------------------------------------------\n",
      "5. Text: Works of art from all over the world are appreciated. His style is appropriate for sharing with the family. The spaces are wide and the guides guide you during the tour. It is a place to enjoy culture 😃\n",
      "Actual Emotional Tone: Positive\n",
      "Predicted Emotional Tone: Positive\n",
      "-------------------------------------------\n",
      "6. Text: We went in to rest after the noisy city tour. Was it invented just for that?!!! At home, small rural museums also know more. But what is great is the spaces, the service and finally Rodin at the entrance. You don't even need to buy a ticket for this.\n",
      "Actual Emotional Tone: Positive\n",
      "Predicted Emotional Tone: Positive\n",
      "-------------------------------------------\n",
      "7. Text: Very mediocre museum, yet it charges as much as the Met. The only thing worth seeing is the Egyptian exhibits. Otherwise, skip this museum and go to the botanical garden instead.\n",
      "Actual Emotional Tone: Negative\n",
      "Predicted Emotional Tone: Negative\n",
      "-------------------------------------------\n",
      "8. Text: David Bowie exhibition is very inspiring but we didn’t like the museum making us wait like 2 hours and then trying to kick us out because it was close to closing time! They said they are going to give us more time but the staff literally kicked us out. Wasn’t worth the money, we couldn’t see everything.. and the air conditioner didn’t work so it was very hot in there..\n",
      "Actual Emotional Tone: Negative\n",
      "Predicted Emotional Tone: Positive\n",
      "-------------------------------------------\n",
      "9. Text: If you buy tickets for the Bowie exhibition be warned you have to queue for over an hour after your ticket time. We booked 6:30pm tickets, queued from  6:20 and didn’t get into the exhibition until 7:40. Why sell tickets for time slots if you can’t stick to them. Red hot too and not even free water for people in the queues. Shame as overshadows the whole experience\n",
      "Actual Emotional Tone: Negative\n",
      "Predicted Emotional Tone: Negative\n",
      "-------------------------------------------\n",
      "10. Text: Went specifically to see the David Bowie display. The tour was great but the limited edition vinyl was out of stock and there was no mention of it on their website which there should be. Their solution, buy tickets for two week ahead in case they have replacement stock in!!!! Poor poor customer service right there\n",
      "Actual Emotional Tone: Negative\n",
      "Predicted Emotional Tone: Negative\n",
      "-------------------------------------------\n",
      "11. Text: This museum has a staff and board that is mostly white people, including the staff in curatorial roles for art of the Americas, Asia, and now Africa. The idea that, in 2018, that this museum is unwilling to hire people who can better represent the artistic traditions, movements, and cultures of these vast continents, is appalling and embarrassing.\n",
      "Actual Emotional Tone: Negative\n",
      "Predicted Emotional Tone: Negative\n",
      "-------------------------------------------\n",
      "12. Text: Andy Warhol exhibit features semen and urine in several “paintings”, be aware very blasphemous. Too bad because other exhibits have beautiful historical pieces labeled with new snarky, WOKE commentary.\n",
      "Actual Emotional Tone: Negative\n",
      "Predicted Emotional Tone: Neutral\n",
      "-------------------------------------------\n",
      "13. Text: Although the museum itself is beautiful and the exhibits are well executed, my experience was less than favourable. I went to this museum with a coworker and 6 young kids (we work at an afterschool/camp). We were let in without a problem but after spending an hour observing the exhibits, I was approached by a security guard who informed me that we should be careful. He said other security guards may give us a hard time because the children had backpacks (not bulky ones I may add) and we are supposed to bring them to bag check . After telling me this my coworker and I decided it's best to leave. The first security guard then proceeded to tell a female security guard about us and she then followed us into the elevator and out to the lobby (practically escorting us out). She then said something to front desk about us as we left. Not only was it disrespectful, (considering we were not aware of the rules/ were NOT told when getting the tickets) the kids also felt very uncomfortable. If we were made aware of the problem with bags we would have gladly gave then to bag check. So unprofessional.\n",
      "Actual Emotional Tone: Negative\n",
      "Predicted Emotional Tone: Positive\n",
      "-------------------------------------------\n",
      "14. Text: I got off the 2 train today with my 6 year old son while heading to do some errands. While walking, my son said he had to use the restroom, so I walked into the Brooklyn Museum and kindly asked if my child could use the restroom (because we were not close to home.) Do you know the security guard refused us? He turned away a little boy who had to use the restroom! What is that!?!? Is this not a place for Brooklynites to freely come and freely go and feel welcome?? This was an unusual request, I’m sure, but how does one turn away a child. BTW-the security guard (that was at the front) asking for tickets. I heard 2 gentleman say they didn’t have any, and he let THEM in! Again, what is that!?!? Brooklyn made me sad today. It’s just down right awful.\n",
      "Actual Emotional Tone: Negative\n",
      "Predicted Emotional Tone: Positive\n",
      "-------------------------------------------\n",
      "15. Text: So many closed exhibits and previous great exhibits were gone. Also very hot and stuffy.\n",
      "Actual Emotional Tone: Negative\n",
      "Predicted Emotional Tone: Positive\n",
      "-------------------------------------------\n",
      "16. Text: The 2 floors I wanted to see, including their most famous exhibit, are closed due to staff shortage.\n",
      "Actual Emotional Tone: Negative\n",
      "Predicted Emotional Tone: Negative\n",
      "-------------------------------------------\n",
      "17. Text: Should rather say closing 17:45 Got kicked out 15 minutes before official closure time\n",
      "Actual Emotional Tone: Negative\n",
      "Predicted Emotional Tone: Neutral\n",
      "-------------------------------------------\n",
      "18. Text: They say they love their members? Why do they make us stand in line for an hour to get tickets? 1 person serving members. 4 serving noon-members...\n",
      "Actual Emotional Tone: Negative\n",
      "Predicted Emotional Tone: Positive\n",
      "-------------------------------------------\n",
      "19. Text: A bit discriminatory... Girls can enter with big bags but boys have to check their bags... Never come back\n",
      "Actual Emotional Tone: Negative\n",
      "Predicted Emotional Tone: Neutral\n",
      "-------------------------------------------\n",
      "20. Text: I went to the museum and it was closed the hours on the website should be updated so no one else will waste their time\n",
      "Actual Emotional Tone: Negative\n",
      "Predicted Emotional Tone: Negative\n",
      "-------------------------------------------\n",
      "\n",
      "Accuracy Test:\n",
      "              precision    recall  f1-score   support\n",
      "\n",
      "    Negative       1.00      0.47      0.64        17\n",
      "     Neutral       0.00      0.00      0.00         0\n",
      "    Positive       0.33      1.00      0.50         3\n",
      "\n",
      "    accuracy                           0.55        20\n",
      "   macro avg       0.44      0.49      0.38        20\n",
      "weighted avg       0.90      0.55      0.62        20\n",
      "\n",
      "Accuracy: 55.00%\n"
     ]
    }
   ],
   "source": [
    "import nltk\n",
    "import pandas as pd\n",
    "from nltk.sentiment import SentimentIntensityAnalyzer\n",
    "from sklearn.metrics import classification_report, accuracy_score\n",
    "\n",
    "# Initialize the Sentiment Intensity Analyzer\n",
    "sia = SentimentIntensityAnalyzer()\n",
    "\n",
    "# Function to detect emotional tone\n",
    "def detect_emotional_tone(text):\n",
    "    sentiment = sia.polarity_scores(text)\n",
    "    if sentiment['compound'] >= 0.05:\n",
    "        return 'Positive'\n",
    "    elif sentiment['compound'] <= -0.05:\n",
    "        return 'Negative'\n",
    "    else:\n",
    "        return 'Neutral'\n",
    "\n",
    "# Read texts from the TXT file without header\n",
    "txt_filename = 'dataset.txt'\n",
    "try:\n",
    "    df = pd.read_csv(txt_filename, sep=\" \", skiprows=1, names=['text', 'actual_tone'])\n",
    "    print(\"TXT file read successfully.\")\n",
    "except FileNotFoundError:\n",
    "    print(f\"Error: The file '{txt_filename}' was not found.\")\n",
    "    exit()\n",
    "\n",
    "# Store actual and predicted tones\n",
    "actual_tones = df['actual_tone']\n",
    "predicted_tones = []\n",
    "\n",
    "total_texts = len(df)\n",
    "print(f\"Total Texts Processed: {total_texts}\\n\")\n",
    "\n",
    "# Detect emotional tone for each text\n",
    "for index, row in df.iterrows():\n",
    "    text = row['text']\n",
    "    predicted_tone = detect_emotional_tone(text)\n",
    "    predicted_tones.append(predicted_tone)\n",
    "    print(f\"{index+1}. Text: {text}\")\n",
    "    print(f\"Actual Emotional Tone: {row['actual_tone']}\")\n",
    "    print(f\"Predicted Emotional Tone: {predicted_tone}\")\n",
    "    print(\"-------------------------------------------\")\n",
    "\n",
    "# Print classification report\n",
    "print(\"\\nAccuracy Test:\")\n",
    "print(classification_report(actual_tones, predicted_tones, zero_division=0))\n",
    "\n",
    "# Calculate and print accuracy\n",
    "accuracy = accuracy_score(actual_tones, predicted_tones) * 100\n",
    "print(f\"Accuracy: {accuracy:.2f}%\")"
   ]
  },
  {
   "cell_type": "markdown",
   "id": "c670a50d-1fb4-4cf9-a184-9ebee75698ce",
   "metadata": {},
   "source": [
    "Based on the results obtained from the sentiment analysis:\n",
    "\n",
    "- The code successfully read a total of 20 texts from the dataset file.\n",
    "- The overall accuracy of the sentiment prediction model is 55.00%. This means that 55% of the predicted emotional tones match the actual emotional tones.\n",
    "- For Negative emotional tones, the precision is 1.00, indicating that when the model predicts Negative, it is usually correct. However, the recall is 0.47, suggesting that the model misses identifying some Negative instances.\n",
    "- Neutral category has a precision and recall of 0 due to no instances being predicted as Neutral.\n",
    "- For Positive emotional tones, the precision is 0.33, meaning that when the model predicts Positive, it is correct in 33% of cases. The recall is 1.00, indicating that the model correctly identifies all Positive instances."
   ]
  },
  {
   "cell_type": "markdown",
   "id": "4142f29f-7498-41db-87ab-2c7bd2a2f787",
   "metadata": {},
   "source": [
    "Conclusion:\n",
    "The sentiment analysis model performs reasonably well in identifying Positive and Negative emotional tones but struggles with Neutral tones due to lack of instances in the dataset.\n",
    "The overall accuracy of 55% suggests moderate performance. There is room for improvement, especially in handling Neutral sentiments and enhancing accuracy for Negative predictions.\n",
    "Recommendations:\n",
    "Enhanced Training Data: Include more diverse examples, particularly for Neutral sentiments, to improve model performance across all emotional tones.\n",
    "Model Fine-tuning: Experiment with adjusting the sentiment thresholds or exploring different sentiment analysis models to potentially boost accuracy.\n",
    "Feedback Integration: Implement mechanisms to incorporate user feedback into the model to continuously improve its predictions."
   ]
  }
 ],
 "metadata": {
  "kernelspec": {
   "display_name": "Python 3 (ipykernel)",
   "language": "python",
   "name": "python3"
  },
  "language_info": {
   "codemirror_mode": {
    "name": "ipython",
    "version": 3
   },
   "file_extension": ".py",
   "mimetype": "text/x-python",
   "name": "python",
   "nbconvert_exporter": "python",
   "pygments_lexer": "ipython3",
   "version": "3.11.5"
  }
 },
 "nbformat": 4,
 "nbformat_minor": 5
}
